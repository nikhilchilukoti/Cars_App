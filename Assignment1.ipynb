{
  "cells": [
    {
      "cell_type": "markdown",
      "metadata": {
        "id": "view-in-github",
        "colab_type": "text"
      },
      "source": [
        "<a href=\"https://colab.research.google.com/github/nikhilchilukoti/Cars_App/blob/master/Assignment1.ipynb\" target=\"_parent\"><img src=\"https://colab.research.google.com/assets/colab-badge.svg\" alt=\"Open In Colab\"/></a>"
      ]
    },
    {
      "cell_type": "markdown",
      "metadata": {
        "id": "ZbOWdtZFeYEM"
      },
      "source": [
        "## **Connecting with Google Drive**"
      ]
    },
    {
      "cell_type": "code",
      "execution_count": null,
      "metadata": {
        "colab": {
          "base_uri": "https://localhost:8080/"
        },
        "id": "adQCwVodKd6Y",
        "outputId": "f6e0747f-dff1-4dcc-ac9d-92b14ee4b430"
      },
      "outputs": [
        {
          "output_type": "stream",
          "name": "stdout",
          "text": [
            "Mounted at /gdrive\n"
          ]
        }
      ],
      "source": [
        "from google.colab import drive\n",
        "drive.mount('/gdrive')"
      ]
    },
    {
      "cell_type": "markdown",
      "metadata": {
        "id": "gT-T5HGUemN7"
      },
      "source": [
        "## **Following functions are used for Dataset Loading**"
      ]
    },
    {
      "cell_type": "code",
      "execution_count": null,
      "metadata": {
        "id": "FtIVZ-xiLA39"
      },
      "outputs": [],
      "source": [
        "import pickle\n",
        "import numpy as np\n",
        "import os\n",
        "import platform\n",
        "\n",
        "\n",
        "def load_pickle(f):\n",
        "    version = platform.python_version_tuple()\n",
        "    if version[0] == '2':\n",
        "        return  pickle.load(f)\n",
        "    elif version[0] == '3':\n",
        "        return  pickle.load(f, encoding='latin1')\n",
        "    raise ValueError(\"invalid python version: {}\".format(version))\n",
        "\n",
        "def load_CIFAR_batch(filename):\n",
        "  \"\"\" load single batch of cifar \"\"\"\n",
        "  with open(filename, 'rb') as f:\n",
        "    datadict = load_pickle(f)\n",
        "    X = datadict['data']\n",
        "    Y = datadict['labels']\n",
        "    X = X.reshape(10000, 3, 32, 32).transpose(0,2,3,1).astype(\"float\")\n",
        "    Y = np.array(Y)\n",
        "    return X, Y\n",
        "\n",
        "def load_CIFAR10(ROOT):\n",
        "  \"\"\" load all of cifar \"\"\"\n",
        "  xs = []\n",
        "  ys = []\n",
        "  for b in range(1,6):\n",
        "    f = os.path.join(ROOT, 'data_batch_%d' % (b, ))\n",
        "    X, Y = load_CIFAR_batch(f)\n",
        "    xs.append(X)\n",
        "    ys.append(Y)    \n",
        "  Xtr = np.concatenate(xs)\n",
        "  Ytr = np.concatenate(ys)\n",
        "  del X, Y\n",
        "  Xte, Yte = load_CIFAR_batch(os.path.join(ROOT, 'test_batch'))\n",
        "  return Xtr, Ytr, Xte, Yte"
      ]
    },
    {
      "cell_type": "markdown",
      "metadata": {
        "id": "xX4CygdAeyED"
      },
      "source": [
        "## **KNN algorithm in numpy**"
      ]
    },
    {
      "cell_type": "code",
      "execution_count": null,
      "metadata": {
        "id": "7k5lC-ZRKrPe"
      },
      "outputs": [],
      "source": [
        "import numpy as np\n",
        "\n",
        "class KNearestNeighbor(object):\n",
        "    def __init__(self):\n",
        "        pass\n",
        "    def train(self, X, y):\n",
        "        self.X_train = X\n",
        "        self.y_train = y\n",
        "    def predict(self, X, k=1, num_loops=0):\n",
        "        if num_loops == 0:\n",
        "            dists = self.compute_distances(X)\n",
        "        else:\n",
        "            raise ValueError('Invalid value %d for num_loops' % num_loops)\n",
        "        return self.predict_labels(dists, k=k)\n",
        "\n",
        "\n",
        "    def compute_distances(self, X):\n",
        "        num_test = X.shape[0]\n",
        "        num_train = self.X_train.shape[0]\n",
        "        dists = np.zeros((num_test, num_train)) \n",
        "        t1 = np.sum(np.square(self.X_train), axis=1)\n",
        "        t2 = np.sum(np.square(X), axis=1)[:, np.newaxis] - 2 * np.dot(X, self.X_train.T)    \n",
        "        dists = np.sqrt(t1 + t2)\n",
        "        pass\n",
        "        return dists\n",
        "\n",
        "    def predict_labels(self, dists, k=1):\n",
        "        num_test = dists.shape[0]\n",
        "        y_pred = np.zeros(num_test)\n",
        "        for i in range(num_test):\n",
        "            closest_y = []\n",
        "            sorted_dist = np.argsort(dists[i])\n",
        "            closest_y = list(self.y_train[sorted_dist[0:k]])\n",
        "            pass\n",
        "            y_pred[i]= (np.argmax(np.bincount(closest_y)))\n",
        "            pass\n",
        "        return y_pred"
      ]
    },
    {
      "cell_type": "markdown",
      "metadata": {
        "id": "x0bzE-zrfNpY"
      },
      "source": [
        "## **K-means algorithm in numpy**"
      ]
    },
    {
      "cell_type": "code",
      "execution_count": null,
      "metadata": {
        "id": "aJbKuWfTfO2a"
      },
      "outputs": [],
      "source": [
        "class KMeans():\n",
        "    def __init__(self, n_cluster, max_iter=100, e=0.0001):\n",
        "        self.n_cluster = n_cluster\n",
        "        self.max_iter = max_iter\n",
        "        self.e = e\n",
        "\n",
        "    def fit(self, x):\n",
        "        np.random.seed(42)\n",
        "        N, D = x.shape\n",
        "        J = 1e10\n",
        "        random_ind = np.random.choice(N,self.n_cluster)\n",
        "        means = x[random_ind,:]\n",
        "\n",
        "        def compute_square_distances(Xtrain, X):\n",
        "            num_train = Xtrain.shape[0]\n",
        "            num_test =  X.shape[0]\n",
        "            Xsq = np.sum(np.square(X),axis=1)\n",
        "            Xsq = Xsq.reshape(num_test,1)\n",
        "            Xtrsq = np.sum(np.square(Xtrain),axis=1)\n",
        "            Xtrsq = Xtrsq.reshape(1,num_train)\n",
        "            dot = np.dot(X,Xtrain.T)\n",
        "            dists = Xsq - 2*dot + Xtrsq\n",
        "            return dists\n",
        "\n",
        "        for iteration in range(self.max_iter):\n",
        "            square_dist = compute_square_distances(x, means)\n",
        "            membership = np.argmin(square_dist,axis=0)\n",
        "            r = np.zeros((self.n_cluster, N))\n",
        "            r[membership,np.arange(N)] = 1\n",
        "            J_new = np.mean(np.sum(r * square_dist, axis=0))\n",
        "            if np.absolute(J - J_new) <= self.e:\n",
        "                break\n",
        "            J = J_new\n",
        "            means = np.dot(r,x) / np.sum(r,axis=1,keepdims = True)\n",
        "\n",
        "        return (means, membership, iteration+1)\n",
        "\n",
        "class KMeansClassifier():\n",
        "\n",
        "    def __init__(self, n_cluster, max_iter=100, e=1e-6):\n",
        "        self.n_cluster = n_cluster\n",
        "        self.max_iter = max_iter\n",
        "        self.e = e\n",
        "\n",
        "    def fit(self, x, y):\n",
        "        np.random.seed(42)\n",
        "        N, D = x.shape\n",
        "        kmeans = KMeans(self.n_cluster, self.max_iter, self.e)\n",
        "        centroids, membership, _ = kmeans.fit(x)\n",
        "        r = np.zeros((self.n_cluster, N))\n",
        "        r[membership,np.arange(N)] = 1\n",
        "        label_matrix = r * (y+1).reshape(1,-1)\n",
        "        centroid_labels = []\n",
        "        for k in range(self.n_cluster):\n",
        "            to_choose = label_matrix[k,:]\n",
        "            mask = to_choose >0\n",
        "            cluster_labels = to_choose[mask]\n",
        "            (_, idx, counts) = np.unique(cluster_labels, return_index=True, return_counts=True)\n",
        "            index = idx[np.argmax(counts)]\n",
        "            centroid_labels.append(cluster_labels[index])\n",
        "        centroid_labels = np.array(centroid_labels) - 1 \n",
        "        self.centroid_labels = centroid_labels\n",
        "        self.centroids = centroids\n",
        "\n",
        "    def predict(self, x):\n",
        "        np.random.seed(42)\n",
        "        N, D = x.shape\n",
        "        def compute_square_distances(Xtrain, X):\n",
        "            num_train = Xtrain.shape[0]\n",
        "            num_test =  X.shape[0]\n",
        "            Xsq = np.sum(np.square(X),axis=1)\n",
        "            Xsq = Xsq.reshape(num_test,1)\n",
        "            Xtrsq = np.sum(np.square(Xtrain),axis=1)\n",
        "            Xtrsq = Xtrsq.reshape(1,num_train)\n",
        "            dot = np.dot(X,Xtrain.T)\n",
        "            dists = Xsq - 2*dot + Xtrsq\n",
        "            return dists\n",
        "\n",
        "        dists = compute_square_distances(x,self.centroids)\n",
        "        membership = np.argmin(dists,axis=0)\n",
        "        labels = self.centroid_labels[membership]\n",
        "        return labels"
      ]
    },
    {
      "cell_type": "markdown",
      "metadata": {
        "id": "sT6NA71CkezN"
      },
      "source": [
        "## **Softmax Classifier algorithm in scratch Numpy**"
      ]
    },
    {
      "cell_type": "code",
      "execution_count": null,
      "metadata": {
        "id": "Ngd98q5Ykea_"
      },
      "outputs": [],
      "source": [
        "import random\n",
        "class Softmax:\n",
        "    __slots__ = (\"epochs\", \"learningRate\", \"batchSize\", \"regStrength\", \"wt\", \"momentum\", \"velocity\")\n",
        "    def __init__(self, epochs, learningRate, batchSize, regStrength, momentum):\n",
        "        self.epochs = epochs\n",
        "        self.learningRate = learningRate\n",
        "        self.batchSize = batchSize\n",
        "        self.regStrength = regStrength\n",
        "        self.momentum = momentum\n",
        "        self.velocity = None\n",
        "        self.wt = None\n",
        "\n",
        "    def train(self, xTrain, yTrain, xTest, yTest):\n",
        "        D = xTrain.shape[1]  # dimensionality\n",
        "        label = np.unique(yTrain)\n",
        "        numOfClasses = len(label) # number of classes\n",
        "        yTrainEnc = self.oneHotEncoding(yTrain, numOfClasses)\n",
        "        yTestEnc = self.oneHotEncoding(yTest, numOfClasses)\n",
        "        self.wt = 0.001 * np.random.rand(D, numOfClasses)\n",
        "        self.velocity = np.zeros(self.wt.shape)\n",
        "        trainLosses = []\n",
        "        testLosses = []\n",
        "        trainAcc = []\n",
        "        testAcc = []\n",
        "        for e in range(self.epochs): # loop over epochs\n",
        "            trainLoss = self.SGDWithMomentum(xTrain, yTrainEnc)\n",
        "            testLoss, dw = self.computeLoss(xTest, yTestEnc)\n",
        "            trainAcc.append(self.meanAccuracy(xTrain, yTrain))\n",
        "            testAcc.append(self.meanAccuracy(xTest, yTest))\n",
        "            trainLosses.append(trainLoss)\n",
        "            testLosses.append(testLoss)\n",
        "            print(\"{:d}\\t->\\tTrainL : {:.7f}\\t|\\tTestL : {:.7f}\\t|\\tTrainAcc : {:.7f}\\t|\\tTestAcc: {:.7f}\"\n",
        "                  .format(e, trainLoss, testLoss, trainAcc[-1], testAcc[-1]))\n",
        "        return trainLosses, testLosses, trainAcc, testAcc\n",
        "\n",
        "    def SGDWithMomentum(self, x, y):\n",
        "        losses = []\n",
        "        randomIndices = random.sample(range(x.shape[0]), x.shape[0])\n",
        "        x = x[randomIndices]\n",
        "        y = y[randomIndices]\n",
        "        for i in range(0, x.shape[0], self.batchSize):\n",
        "            Xbatch = x[i:i+self.batchSize]\n",
        "            ybatch = y[i:i+self.batchSize]\n",
        "            loss, dw = self.computeLoss(Xbatch, ybatch)\n",
        "            self.velocity = (self.momentum * self.velocity) + (self.learningRate * dw)\n",
        "            self.wt -= self.velocity\n",
        "            losses.append(loss)\n",
        "        return np.sum(losses) / len(losses)\n",
        "\n",
        "    def softmaxEquation(self, scores):\n",
        "        scores -= np.max(scores)\n",
        "        prob = (np.exp(scores).T / np.sum(np.exp(scores), axis=1)).T\n",
        "        return prob\n",
        "\n",
        "    def computeLoss(self, x, yMatrix):\n",
        "        numOfSamples = x.shape[0]\n",
        "        scores = np.dot(x, self.wt)\n",
        "        prob = self.softmaxEquation(scores)\n",
        "\n",
        "        loss = -np.log(np.max(prob)) * yMatrix\n",
        "        regLoss = (1/2)*self.regStrength*np.sum(self.wt*self.wt)\n",
        "        totalLoss = (np.sum(loss) / numOfSamples) + regLoss\n",
        "        grad = ((-1 / numOfSamples) * np.dot(x.T, (yMatrix - prob))) + (self.regStrength * self.wt)\n",
        "        return totalLoss, grad\n",
        "\n",
        "    def meanAccuracy(self, x, y):\n",
        "        predY = self.predict(x)\n",
        "        predY = predY.reshape((-1, 1))\n",
        "        return np.mean(np.equal(y, predY))\n",
        "\n",
        "    def predict(self, x):\n",
        "        return np.argmax(x.dot(self.wt), 1)\n",
        "\n",
        "    def oneHotEncoding(self, y, numOfClasses):\n",
        "        y = np.asarray(y, dtype='int32')\n",
        "        if len(y) > 1:\n",
        "            y = y.reshape(-1)\n",
        "        if not numOfClasses:\n",
        "            numOfClasses = np.max(y) + 1\n",
        "        yMatrix = np.zeros((len(y), numOfClasses))\n",
        "        yMatrix[np.arange(len(y)), y] = 1\n",
        "        return yMatrix"
      ]
    },
    {
      "cell_type": "markdown",
      "metadata": {
        "id": "9D8NXVWTe9Qy"
      },
      "source": [
        "## **Loading dataset fom google drive**"
      ]
    },
    {
      "cell_type": "code",
      "execution_count": null,
      "metadata": {
        "colab": {
          "base_uri": "https://localhost:8080/"
        },
        "id": "kCoTsRs4KuZR",
        "outputId": "7d540416-323d-495e-b4cd-46d4bca63ac2"
      },
      "outputs": [
        {
          "name": "stdout",
          "output_type": "stream",
          "text": [
            "Training data shape:  (50000, 32, 32, 3)\n",
            "Training labels shape:  (50000,)\n",
            "Test data shape:  (10000, 32, 32, 3)\n",
            "Test labels shape:  (10000,)\n"
          ]
        }
      ],
      "source": [
        "cifar10_dir = './cifar-10-batches-py'#'/gdrive/MyDrive/data/cifar-10-python/cifar-10-batches-py'\n",
        "X_train, y_train, X_test, y_test = load_CIFAR10(cifar10_dir)\n",
        "\n",
        "# Checking the size of the training and testing data\n",
        "print('Training data shape: ', X_train.shape)\n",
        "print('Training labels shape: ', y_train.shape)\n",
        "print('Test data shape: ', X_test.shape)\n",
        "print('Test labels shape: ', y_test.shape)"
      ]
    },
    {
      "cell_type": "markdown",
      "metadata": {
        "id": "zmjj1Od8lZC8"
      },
      "source": [
        "## **Training KNN clasiifier with K=1**"
      ]
    },
    {
      "cell_type": "code",
      "execution_count": null,
      "metadata": {
        "colab": {
          "base_uri": "https://localhost:8080/"
        },
        "id": "cKtxuJ5WLh97",
        "outputId": "d28ad880-6899-4c7c-a7a6-9ae10d6848c9"
      },
      "outputs": [
        {
          "name": "stdout",
          "output_type": "stream",
          "text": [
            "(50000, 3072) (10000, 3072)\n",
            "Got 3539 / 10000 correct => accuracy: 0.353900\n"
          ]
        }
      ],
      "source": [
        "X_train = np.reshape(X_train, (X_train.shape[0], -1))\n",
        "X_test = np.reshape(X_test, (X_test.shape[0], -1))\n",
        "print(X_train.shape, X_test.shape)\n",
        "classifier = KNearestNeighbor()\n",
        "classifier.train(X_train, y_train)\n",
        "dists= classifier.compute_distances(X_test)\n",
        "y_test_pred = classifier.predict_labels(dists, k=1)\n",
        "num_correct = np.sum(y_test_pred == y_test)\n",
        "accuracy = float(num_correct) / 10000\n",
        "print('Got %d / %d correct => accuracy: %f' % (num_correct, 10000, accuracy))"
      ]
    },
    {
      "cell_type": "markdown",
      "metadata": {
        "id": "6G5n_Sv9l-qt"
      },
      "source": [
        "## **Cross validition with 5 folds of KNN with K values of 3,5,7 and 11**"
      ]
    },
    {
      "cell_type": "code",
      "execution_count": null,
      "metadata": {
        "colab": {
          "base_uri": "https://localhost:8080/"
        },
        "id": "ksHEKUxSM_Ca",
        "outputId": "9a84eff0-1a4b-4056-fa2a-7c73f8d2f9f0"
      },
      "outputs": [
        {
          "name": "stdout",
          "output_type": "stream",
          "text": [
            "Printing our 5-fold accuracies for varying values of k:\n",
            "\n",
            "k = 3, accuracy = 0.326000\n",
            "k = 3, accuracy = 0.326100\n",
            "k = 3, accuracy = 0.328000\n",
            "k = 3, accuracy = 0.325200\n",
            "k = 3, accuracy = 0.317800\n",
            "k = 5, accuracy = 0.335000\n",
            "k = 5, accuracy = 0.329700\n",
            "k = 5, accuracy = 0.333600\n",
            "k = 5, accuracy = 0.334000\n",
            "k = 5, accuracy = 0.328300\n",
            "k = 7, accuracy = 0.340000\n",
            "k = 7, accuracy = 0.333000\n",
            "k = 7, accuracy = 0.335600\n",
            "k = 7, accuracy = 0.331000\n",
            "k = 7, accuracy = 0.323700\n",
            "k = 11, accuracy = 0.338100\n",
            "k = 11, accuracy = 0.324300\n",
            "k = 11, accuracy = 0.330700\n",
            "k = 11, accuracy = 0.330700\n",
            "k = 11, accuracy = 0.323200\n"
          ]
        }
      ],
      "source": [
        "num_test = 10000\n",
        "num_folds = 5\n",
        "k_choices = [3,5,7,11]\n",
        "\n",
        "X_train_folds = []\n",
        "y_train_folds = []\n",
        "\n",
        "X_train_folds = np.array_split(X_train,num_folds)\n",
        "y_train_folds = np.array_split(y_train,num_folds)\n",
        "k_to_accuracies = {}\n",
        "\n",
        "for k in k_choices:\n",
        "    k_to_accuracies[k] = []\n",
        "    for num_knn in range(0,num_folds):\n",
        "        X_test = X_train_folds[num_knn]\n",
        "        y_test = y_train_folds[num_knn]\n",
        "        X_train = X_train_folds\n",
        "        y_train = y_train_folds\n",
        "        \n",
        "        temp = np.delete(X_train,num_knn,0)\n",
        "        X_train = np.concatenate((temp),axis = 0)\n",
        "        y_train = np.delete(y_train,num_knn,0)\n",
        "        y_train = np.concatenate((y_train),axis = 0)\n",
        "        \n",
        "        classifier = KNearestNeighbor()\n",
        "        classifier.train(X_train, y_train)\n",
        "        dists = classifier.compute_distances(X_test)\n",
        "        y_test_pred = classifier.predict_labels(dists, k)\n",
        "\n",
        "        num_correct = np.sum(y_test_pred == y_test)\n",
        "        accuracy = float(num_correct) / num_test\n",
        "#         print('Got %d / %d correct => accuracy: %f' % (num_correct, num_test, accuracy))\n",
        "        k_to_accuracies[k].append(accuracy)\n",
        "\n",
        "print(\"Printing our 5-fold accuracies for varying values of k:\")\n",
        "print()\n",
        "for k in sorted(k_to_accuracies):\n",
        "    for accuracy in k_to_accuracies[k]:\n",
        "        print('k = %d, accuracy = %f' % (k, accuracy))"
      ]
    },
    {
      "cell_type": "markdown",
      "metadata": {
        "id": "MCiNegbYfZz9"
      },
      "source": [
        "## **Training Kmeans with k=2**"
      ]
    },
    {
      "cell_type": "code",
      "execution_count": null,
      "metadata": {
        "colab": {
          "base_uri": "https://localhost:8080/"
        },
        "id": "qzvQTcR1Qnm6",
        "outputId": "ec28f83e-4530-4dd4-b64f-254a2a58a99a"
      },
      "outputs": [
        {
          "name": "stdout",
          "output_type": "stream",
          "text": [
            "Got 2347 / 10000 correct => accuracy: 0.234700\n"
          ]
        }
      ],
      "source": [
        "num_test = 10000\n",
        "n_cluster = 2\n",
        "classifier = KMeansClassifier(n_cluster=n_cluster, max_iter=100, e=1e-6)\n",
        "\n",
        "classifier.fit(X_train, y_train)\n",
        "y_hat_test = classifier.predict(X_test)\n",
        "num_correct = np.sum(y_test_pred == y_test)\n",
        "accuracy = float(num_correct) / num_test\n",
        "print('Got %d / %d correct => accuracy: %f' % (num_correct, num_test, accuracy))"
      ]
    },
    {
      "cell_type": "code",
      "execution_count": null,
      "metadata": {
        "colab": {
          "base_uri": "https://localhost:8080/"
        },
        "id": "7FaOHKacon0F",
        "outputId": "d7099a2f-3fb1-45bf-8ac3-7c21ac3cbf66"
      },
      "outputs": [
        {
          "name": "stdout",
          "output_type": "stream",
          "text": [
            "Printing our 5-fold accuracies for varying values of k:\n",
            "\n",
            "k = 3, accuracy = 0.183000\n",
            "k = 3, accuracy = 0.170400\n",
            "k = 3, accuracy = 0.179700\n",
            "k = 3, accuracy = 0.172500\n",
            "k = 3, accuracy = 0.178600\n",
            "k = 5, accuracy = 0.194300\n",
            "k = 5, accuracy = 0.181700\n",
            "k = 5, accuracy = 0.187900\n",
            "k = 5, accuracy = 0.185400\n",
            "k = 5, accuracy = 0.192000\n",
            "k = 7, accuracy = 0.202100\n",
            "k = 7, accuracy = 0.188500\n",
            "k = 7, accuracy = 0.194700\n",
            "k = 7, accuracy = 0.191100\n",
            "k = 7, accuracy = 0.198800\n",
            "k = 11, accuracy = 0.233400\n",
            "k = 11, accuracy = 0.226400\n",
            "k = 11, accuracy = 0.238300\n",
            "k = 11, accuracy = 0.223800\n",
            "k = 11, accuracy = 0.234700\n"
          ]
        }
      ],
      "source": [
        "num_folds = 5\n",
        "k_choices = [3,5,7,11]\n",
        "\n",
        "X_train_folds = []\n",
        "y_train_folds = []\n",
        "\n",
        "X_train_folds = np.array_split(X_train,num_folds)\n",
        "y_train_folds = np.array_split(y_train,num_folds)\n",
        "k_to_accuracies = {}\n",
        "\n",
        "for k in k_choices:\n",
        "    k_to_accuracies[k] = []\n",
        "    for num_knn in range(0,num_folds):\n",
        "        X_test = X_train_folds[num_knn]\n",
        "        y_test = y_train_folds[num_knn]\n",
        "        X_train = X_train_folds\n",
        "        y_train = y_train_folds\n",
        "        \n",
        "        temp = np.delete(X_train,num_knn,0)\n",
        "        X_train = np.concatenate((temp),axis = 0)\n",
        "        y_train = np.delete(y_train,num_knn,0)\n",
        "        y_train = np.concatenate((y_train),axis = 0)\n",
        "        \n",
        "        classifier = KMeansClassifier(n_cluster=k, max_iter=100, e=1e-6)\n",
        "        classifier.fit(X_train, y_train)\n",
        "        y_test_pred = classifier.predict(X_test)\n",
        "\n",
        "        num_correct = np.sum(y_test_pred == y_test)\n",
        "        accuracy = float(num_correct) / num_test\n",
        "#         print('Got %d / %d correct => accuracy: %f' % (num_correct, num_test, accuracy))\n",
        "        k_to_accuracies[k].append(accuracy)\n",
        "\n",
        "print(\"Printing our 5-fold accuracies for varying values of k:\")\n",
        "print()\n",
        "for k in sorted(k_to_accuracies):\n",
        "    for accuracy in k_to_accuracies[k]:\n",
        "        print('k = %d, accuracy = %f' % (k, accuracy))"
      ]
    },
    {
      "cell_type": "markdown",
      "metadata": {
        "id": "Vtdb2h0XmmVW"
      },
      "source": [
        "## **Training softmax classifier**"
      ]
    },
    {
      "cell_type": "code",
      "execution_count": null,
      "metadata": {
        "colab": {
          "base_uri": "https://localhost:8080/"
        },
        "id": "-97ee9csb1ZW",
        "outputId": "9ee14d8a-b47a-4ecb-e849-06a9a61af1f9"
      },
      "outputs": [
        {
          "name": "stderr",
          "output_type": "stream",
          "text": [
            "/tmp/ipykernel_242250/709730193.py:52: RuntimeWarning: invalid value encountered in true_divide\n",
            "  prob = (np.exp(scores).T / np.sum(np.exp(scores), axis=1)).T\n"
          ]
        },
        {
          "name": "stdout",
          "output_type": "stream",
          "text": [
            "0\t->\tTrainL : 65.8428338\t|\tTestL : nan\t|\tTrainAcc : 0.1000000\t|\tTestAcc: 0.1000000\n",
            "1\t->\tTrainL : 146.2277968\t|\tTestL : nan\t|\tTrainAcc : 0.1000000\t|\tTestAcc: 0.1000000\n",
            "2\t->\tTrainL : 202.7587520\t|\tTestL : nan\t|\tTrainAcc : 0.1000000\t|\tTestAcc: 0.1000000\n",
            "3\t->\tTrainL : 253.9546283\t|\tTestL : nan\t|\tTrainAcc : 0.1000000\t|\tTestAcc: 0.1000000\n",
            "4\t->\tTrainL : 299.7831397\t|\tTestL : nan\t|\tTrainAcc : 0.1000000\t|\tTestAcc: 0.1000000\n",
            "5\t->\tTrainL : 342.5447429\t|\tTestL : nan\t|\tTrainAcc : 0.1000000\t|\tTestAcc: 0.1000000\n",
            "6\t->\tTrainL : 379.0513859\t|\tTestL : nan\t|\tTrainAcc : 0.1000000\t|\tTestAcc: 0.1000000\n",
            "7\t->\tTrainL : 413.9432071\t|\tTestL : nan\t|\tTrainAcc : 0.1000000\t|\tTestAcc: 0.1000000\n",
            "8\t->\tTrainL : 443.1525810\t|\tTestL : nan\t|\tTrainAcc : 0.1000000\t|\tTestAcc: 0.1000000\n",
            "9\t->\tTrainL : 473.3564177\t|\tTestL : nan\t|\tTrainAcc : 0.1000000\t|\tTestAcc: 0.1000000\n"
          ]
        }
      ],
      "source": [
        "epochs = 10\n",
        "learningRate = 0.001\n",
        "batchSize = 1\n",
        "regStrength = 0.001\n",
        "momentum =0.05\n",
        "sm = Softmax(epochs=epochs, learningRate=learningRate, batchSize=batchSize,\n",
        "                 regStrength=regStrength, momentum=momentum)\n",
        "trainLosses, testLosses, trainAcc, testAcc = sm.train(X_train, y_train, X_test, y_test) # Train a network\n"
      ]
    },
    {
      "cell_type": "code",
      "execution_count": null,
      "metadata": {
        "colab": {
          "base_uri": "https://localhost:8080/",
          "height": 294
        },
        "id": "5ekRLOCKb1P2",
        "outputId": "3ebd3de6-dc35-4e95-adc4-b92a74344813"
      },
      "outputs": [
        {
          "data": {
            "image/png": "[encoded data removed]",
            "text/plain": [
              "<Figure size 432x288 with 2 Axes>"
            ]
          },
          "metadata": {
            "needs_background": "light"
          },
          "output_type": "display_data"
        }
      ],
      "source": [
        "import matplotlib.pyplot as plt\n",
        "plt.subplot(1, 2, 1)\n",
        "plt.plot(trainLosses, label=\"Train loss\")\n",
        "plt.plot(testLosses, label=\"Test loss\")\n",
        "plt.legend(loc='best')\n",
        "plt.title(\"Epochs vs. Cross Entropy Loss\")\n",
        "plt.xlabel(\"Number of Iteration or Epochs\")\n",
        "plt.ylabel(\"Cross Entropy Loss\")\n",
        "\n",
        "plt.subplot(1, 2, 2)\n",
        "plt.plot(trainAcc, label=\"Train Accuracy\")\n",
        "plt.plot(testAcc, label=\"Test Accuracy\")\n",
        "plt.legend(loc='best')\n",
        "plt.title(\"Epochs vs. Mean per class Accuracy\")\n",
        "plt.xlabel(\"Number of Iteration or Epochs\")\n",
        "plt.ylabel(\"Mean per class Accuracy\")\n",
        "plt.show()\n"
      ]
    },
    {
      "cell_type": "code",
      "execution_count": null,
      "metadata": {
        "id": "DMcFp1kWb1IG"
      },
      "outputs": [],
      "source": [
        ""
      ]
    },
    {
      "cell_type": "code",
      "execution_count": null,
      "metadata": {
        "id": "bfZ0MslfePE_"
      },
      "outputs": [],
      "source": [
        ""
      ]
    }
  ],
  "metadata": {
    "colab": {
      "collapsed_sections": [],
      "name": "Assignment1.ipynb",
      "provenance": [],
      "include_colab_link": true
    },
    "kernelspec": {
      "display_name": "Python 3 (ipykernel)",
      "language": "python",
      "name": "python3"
    },
    "language_info": {
      "codemirror_mode": {
        "name": "ipython",
        "version": 3
      },
      "file_extension": ".py",
      "mimetype": "text/x-python",
      "name": "python",
      "nbconvert_exporter": "python",
      "pygments_lexer": "ipython3",
      "version": "3.8.5"
    }
  },
  "nbformat": 4,
  "nbformat_minor": 0
}